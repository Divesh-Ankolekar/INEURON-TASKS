{
 "cells": [
  {
   "cell_type": "code",
   "execution_count": null,
   "id": "7a384f2a",
   "metadata": {},
   "outputs": [],
   "source": [
    "q1 :\n",
    "ineruon \n",
    "ineruon ineruon \n",
    "ineruon ineruon ineruon\n",
    "ineruon ineruon ineruon ineruon\n",
    "\n",
    "q2 - \n",
    "\n",
    "          ineruon\n",
    "    ineruon      ineruon\n",
    "ineruon\t\tineruon \tineruon\n",
    "\tineruon\t\t ineruon\n",
    "\t\t  ineruon\n",
    "\n",
    "l = [[1,2,3,4] , (2,3,4,5,6) , (3,4,5,6,7) , set([23,4,5,45,4,4,5,45,45,4,5]) , {'k1' :\"sudh\" , \"k2\" : \"ineuron\",\"k3\":\n",
    "            \"kumar\" , 3:6 , 7:8} , [\"ineuron\" , \"data science \"]]\n",
    "\n",
    "q3 : Try to extract all the list entity \n",
    "q4 : Try to extract all the dict enteties\n",
    "q5 : Try to extract all the tuple enteties\n",
    "q6 : Try to extract all the numerical data it may b a part of dict key and values \n",
    "q7 : Try to give summation of all the numeric data \n",
    "q8 : Try to filter out all the odd values out all numeric data which is a part of a list \n",
    "q9 : Try to extract \"ineruon\" out of this data\n",
    "q10 :Try to find out a number of occurances of all the data \n",
    "q11 : Try to find out number of keys in dict element\n",
    "q12 : Try to filter out all the string data \n",
    "q13 : Try to Find  out alphanum in data\n",
    "q14 : Try to find out multiplication of all numeric value in  the individual collection inside dataset \n",
    "q15 : Try to unwrape all the collection inside collection and create a flat list \n",
    "    "
   ]
  },
  {
   "cell_type": "markdown",
   "id": "08b60d37",
   "metadata": {},
   "source": [
    "Q(1)"
   ]
  },
  {
   "cell_type": "code",
   "execution_count": 13,
   "id": "69351934",
   "metadata": {},
   "outputs": [
    {
     "name": "stdout",
     "output_type": "stream",
     "text": [
      "ineuron \n",
      "\n",
      "ineuron ineuron \n",
      "\n",
      "ineuron ineuron ineuron \n",
      "\n",
      "ineuron ineuron ineuron ineuron \n",
      "\n"
     ]
    }
   ],
   "source": [
    "for i in range (4) :\n",
    "    for j in range(i+1) :\n",
    "        print(\"ineuron\", end=\" \")\n",
    "    print(\"\\n\")    \n",
    "\n",
    "        "
   ]
  },
  {
   "cell_type": "markdown",
   "id": "71e63447",
   "metadata": {},
   "source": [
    "Q(2)"
   ]
  },
  {
   "cell_type": "code",
   "execution_count": 14,
   "id": "c2a1c002",
   "metadata": {},
   "outputs": [
    {
     "name": "stdout",
     "output_type": "stream",
     "text": [
      "       iNeuron \n",
      "\n",
      "     iNeuron iNeuron \n",
      "\n",
      " iNeuron iNeuron iNeuron \n",
      "\n",
      "     iNeuron iNeuron \n",
      "\n",
      "          iNeuron \n",
      "\n"
     ]
    }
   ],
   "source": [
    "n=3\n",
    "for i in range(n) :\n",
    "    n=n-i\n",
    "    print(\"  \"*n , end=\" \")\n",
    "    for j in range(i+1)  :\n",
    "        print(\"iNeuron\" , end= \" \")\n",
    "    print(\"\\n\")\n",
    "n=1   \n",
    "for i in range(n):\n",
    "    n =(n+i)*2\n",
    "    print(\"  \"*n , end=\" \")\n",
    "    for j in range(i+2):\n",
    "        print(\"iNeuron\" , end=\" \")\n",
    "    print(\"\\n\")\n",
    "n=1\n",
    "for i in range(n):\n",
    "    n=(n+i)*4\n",
    "    print(\"  \"*n , end=\"  \")\n",
    "    for k in range(i+1):\n",
    "        print(\"iNeuron\" , end=\" \")\n",
    "        print(\"\\n\")\n",
    "        \n",
    "    "
   ]
  },
  {
   "cell_type": "code",
   "execution_count": 15,
   "id": "1955c5aa",
   "metadata": {},
   "outputs": [
    {
     "name": "stdout",
     "output_type": "stream",
     "text": [
      "                        iNeuron      \n",
      "                 iNeuron      iNeuron      \n",
      "           iNeuron      iNeuron      iNeuron      \n",
      "                 iNeuron      iNeuron      \n",
      "                        iNeuron      \n"
     ]
    }
   ],
   "source": [
    "n=1\n",
    "for i in range(n):\n",
    "    n=(n+i)*11\n",
    "    print(\"  \"*n , end=\"  \")\n",
    "    for j in range(i+1) :\n",
    "        print(\"iNeuron\" , end=\"      \")\n",
    "    print()    \n",
    "n=1\n",
    "for i in range(n) :\n",
    "    n=(n-i)*8\n",
    "    print(\"  \"*n , end=\" \")\n",
    "    for j in range(i+2)  :\n",
    "        print(\"iNeuron\" , end= \"      \")\n",
    "    print()\n",
    "n=1\n",
    "for i in range(n) :\n",
    "    n=(n-i)*4\n",
    "    print(\"  \"*n , end=\"   \")\n",
    "    for j in range(i+3)  :\n",
    "        print(\"iNeuron\" , end= \"      \")\n",
    "    print()\n",
    "n=1   \n",
    "for i in range(n):\n",
    "    n =(n+i)*8\n",
    "    print(\"  \"*n , end=\" \")\n",
    "    for j in range(i+2):\n",
    "        print(\"iNeuron\" , end=\"      \")\n",
    "    print()\n",
    "n=1\n",
    "for i in range(n):\n",
    "    n=(n+i)*11\n",
    "    print(\"  \"*n , end=\"  \")\n",
    "    for k in range(i+1):\n",
    "        print(\"iNeuron\" , end=\"      \")\n",
    "        print()\n",
    "        "
   ]
  },
  {
   "cell_type": "code",
   "execution_count": 16,
   "id": "e935c056",
   "metadata": {},
   "outputs": [],
   "source": [
    "l = [[1,2,3,4] , (2,3,4,5,6) , (3,4,5,6,7) , set([23,4,5,45,4,4,5,45,45,4,5]) , {'k1' :\"sudh\" , \"k2\" : \"ineuron\",\"k3\":\n",
    "            \"kumar\" , 3:6 , 7:8} , [\"ineuron\" , \"data science \"]]"
   ]
  },
  {
   "cell_type": "markdown",
   "id": "aa7baec1",
   "metadata": {},
   "source": [
    "Q(3)"
   ]
  },
  {
   "cell_type": "code",
   "execution_count": 17,
   "id": "2322bee1",
   "metadata": {},
   "outputs": [
    {
     "name": "stdout",
     "output_type": "stream",
     "text": [
      "[1, 2, 3, 4] [45, 4, 5, 23] ['ineuron', 'data science ']\n"
     ]
    }
   ],
   "source": [
    "#Try to extract all the list entity \n",
    "\n",
    "l1 = list(l[3])\n",
    "print(l[0] , l1 , l[5])\n"
   ]
  },
  {
   "cell_type": "markdown",
   "id": "a89b45db",
   "metadata": {},
   "source": [
    "Q(4)"
   ]
  },
  {
   "cell_type": "code",
   "execution_count": 18,
   "id": "df668f91",
   "metadata": {},
   "outputs": [
    {
     "name": "stdout",
     "output_type": "stream",
     "text": [
      "{'k1': 'sudh', 'k2': 'ineuron', 'k3': 'kumar', 3: 6, 7: 8}\n"
     ]
    }
   ],
   "source": [
    "#Try to extract all the dict enteties\n",
    "\n",
    "print(l[4])"
   ]
  },
  {
   "cell_type": "markdown",
   "id": "667476fc",
   "metadata": {},
   "source": [
    "Q(5)"
   ]
  },
  {
   "cell_type": "code",
   "execution_count": 19,
   "id": "bfd93da7",
   "metadata": {},
   "outputs": [
    {
     "name": "stdout",
     "output_type": "stream",
     "text": [
      "(2, 3, 4, 5, 6) (3, 4, 5, 6, 7)\n"
     ]
    }
   ],
   "source": [
    "# Try to extract all the tuple enteties\n",
    "\n",
    "print(l[1] , l[2])"
   ]
  },
  {
   "cell_type": "markdown",
   "id": "31e65074",
   "metadata": {},
   "source": [
    "Q(6)"
   ]
  },
  {
   "cell_type": "code",
   "execution_count": 20,
   "id": "9c03c137",
   "metadata": {},
   "outputs": [
    {
     "name": "stdout",
     "output_type": "stream",
     "text": [
      "1\n",
      "2\n",
      "3\n",
      "4\n",
      "2\n",
      "3\n",
      "4\n",
      "5\n",
      "6\n",
      "3\n",
      "4\n",
      "5\n",
      "6\n",
      "7\n",
      "45\n",
      "4\n",
      "5\n",
      "23\n",
      "3\n",
      "6\n",
      "7\n",
      "8\n"
     ]
    }
   ],
   "source": [
    "#Try to extract all the numerical data it may b a part of dict key and values\n",
    "\n",
    "for i in l:\n",
    "    if type(i) == list or type(i) == tuple or type(i) == set :\n",
    "        for j in i :\n",
    "            if type(j) == int:\n",
    "                print(j)\n",
    "    if type(i) == dict:\n",
    "        for a,b in i.items():\n",
    "            if a == 3 or a == 7 or b == 6 or b == 8 :\n",
    "                print(a)\n",
    "                print(b)            "
   ]
  },
  {
   "cell_type": "markdown",
   "id": "fa10f52e",
   "metadata": {},
   "source": [
    "Q(7)"
   ]
  },
  {
   "cell_type": "code",
   "execution_count": 21,
   "id": "66d9157c",
   "metadata": {},
   "outputs": [],
   "source": [
    "#Try to give summation of all the numeric data \n",
    "\n"
   ]
  },
  {
   "cell_type": "code",
   "execution_count": null,
   "id": "e92cc86d",
   "metadata": {},
   "outputs": [],
   "source": []
  },
  {
   "cell_type": "markdown",
   "id": "1071a540",
   "metadata": {},
   "source": [
    "Q(8)"
   ]
  },
  {
   "cell_type": "code",
   "execution_count": 22,
   "id": "0431a267",
   "metadata": {},
   "outputs": [
    {
     "name": "stdout",
     "output_type": "stream",
     "text": [
      "1\n",
      "3\n",
      "3\n",
      "5\n",
      "3\n",
      "5\n",
      "7\n",
      "45\n",
      "5\n",
      "23\n",
      "3\n",
      "7\n"
     ]
    }
   ],
   "source": [
    "#Try to filter out all the odd values out all numeric data which is a part of a list\n",
    "\n",
    "for i in l:\n",
    "    if type(i) == (list) or type(i) ==(tuple) or type(i) == (set) :\n",
    "        for j in i :\n",
    "            if type(j) == int :\n",
    "                if j % 2 != 0 :\n",
    "                    print(j)\n",
    "    if type(i) == dict:\n",
    "        for a,b in i.items():\n",
    "            if a == 3 or a == 7 or b == 6 or b == 8 :\n",
    "                if a % 2 != 0:\n",
    "                    print(a)\n",
    "                    if b % 2 != 0:\n",
    "                        print(b)"
   ]
  },
  {
   "cell_type": "markdown",
   "id": "87d01cc0",
   "metadata": {},
   "source": [
    "Q(9)"
   ]
  },
  {
   "cell_type": "code",
   "execution_count": 23,
   "id": "651ea8d8",
   "metadata": {},
   "outputs": [
    {
     "data": {
      "text/plain": [
       "[[1, 2, 3, 4],\n",
       " (2, 3, 4, 5, 6),\n",
       " (3, 4, 5, 6, 7),\n",
       " {4, 5, 23, 45},\n",
       " {'k1': 'sudh', 'k2': 'ineuron', 'k3': 'kumar', 3: 6, 7: 8},\n",
       " ['ineuron', 'data science ']]"
      ]
     },
     "execution_count": 23,
     "metadata": {},
     "output_type": "execute_result"
    }
   ],
   "source": [
    "l"
   ]
  },
  {
   "cell_type": "code",
   "execution_count": 36,
   "id": "b41dd84e",
   "metadata": {},
   "outputs": [
    {
     "name": "stdout",
     "output_type": "stream",
     "text": [
      "ineuron\n"
     ]
    }
   ],
   "source": [
    "#Try to extract \"ineruon\" out of this data\n",
    "\n",
    "for i in l :\n",
    "    if type(i) == list :\n",
    "        for j in i :\n",
    "            if type(j) == str :\n",
    "                if j == 'ineuron':\n",
    "                    print(j)\n",
    "l1 == l[4]\n",
    "for i in l1 :\n",
    "    if i == '':\n",
    "        print(l1[i])                                           \n"
   ]
  },
  {
   "cell_type": "markdown",
   "id": "170f48bb",
   "metadata": {},
   "source": [
    "Q(10)"
   ]
  },
  {
   "cell_type": "code",
   "execution_count": 12,
   "id": "1f18bde2",
   "metadata": {},
   "outputs": [
    {
     "data": {
      "text/plain": [
       "[[1, 2, 3, 4],\n",
       " (2, 3, 4, 5, 6),\n",
       " (3, 4, 5, 6, 7),\n",
       " {4, 5, 23, 45},\n",
       " {'k1': 'sudh', 'k2': 'ineuron', 'k3': 'kumar', 3: 6, 7: 8},\n",
       " ['ineuron', 'data science ']]"
      ]
     },
     "execution_count": 12,
     "metadata": {},
     "output_type": "execute_result"
    }
   ],
   "source": [
    "l"
   ]
  },
  {
   "cell_type": "code",
   "execution_count": 13,
   "id": "1883d387",
   "metadata": {},
   "outputs": [
    {
     "name": "stdout",
     "output_type": "stream",
     "text": [
      "[1, 2, 3, 4] 1\n",
      "(2, 3, 4, 5, 6) 1\n",
      "(3, 4, 5, 6, 7) 1\n",
      "{45, 4, 5, 23} 1\n",
      "{'k1': 'sudh', 'k2': 'ineuron', 'k3': 'kumar', 3: 6, 7: 8} 1\n",
      "['ineuron', 'data science '] 1\n"
     ]
    }
   ],
   "source": [
    "for i in list(l):\n",
    "    print(i , l.count(i))\n",
    "    "
   ]
  },
  {
   "cell_type": "markdown",
   "id": "7929a9a2",
   "metadata": {},
   "source": [
    "Q(11)"
   ]
  },
  {
   "cell_type": "code",
   "execution_count": 14,
   "id": "bf36a31d",
   "metadata": {},
   "outputs": [
    {
     "data": {
      "text/plain": [
       "[[1, 2, 3, 4],\n",
       " (2, 3, 4, 5, 6),\n",
       " (3, 4, 5, 6, 7),\n",
       " {4, 5, 23, 45},\n",
       " {'k1': 'sudh', 'k2': 'ineuron', 'k3': 'kumar', 3: 6, 7: 8},\n",
       " ['ineuron', 'data science ']]"
      ]
     },
     "execution_count": 14,
     "metadata": {},
     "output_type": "execute_result"
    }
   ],
   "source": [
    "l"
   ]
  },
  {
   "cell_type": "code",
   "execution_count": 15,
   "id": "353311b0",
   "metadata": {},
   "outputs": [],
   "source": [
    "L = l[4]"
   ]
  },
  {
   "cell_type": "code",
   "execution_count": 16,
   "id": "48dc3e91",
   "metadata": {},
   "outputs": [
    {
     "data": {
      "text/plain": [
       "{'k1': 'sudh', 'k2': 'ineuron', 'k3': 'kumar', 3: 6, 7: 8}"
      ]
     },
     "execution_count": 16,
     "metadata": {},
     "output_type": "execute_result"
    }
   ],
   "source": [
    "L"
   ]
  },
  {
   "cell_type": "code",
   "execution_count": 17,
   "id": "19769656",
   "metadata": {},
   "outputs": [
    {
     "name": "stdout",
     "output_type": "stream",
     "text": [
      "k1\n",
      "k2\n",
      "k3\n",
      "3\n",
      "7\n"
     ]
    }
   ],
   "source": [
    "for i in L:\n",
    "    print(i)"
   ]
  },
  {
   "cell_type": "code",
   "execution_count": null,
   "id": "a9e8151f",
   "metadata": {},
   "outputs": [],
   "source": []
  },
  {
   "cell_type": "markdown",
   "id": "1ba63350",
   "metadata": {},
   "source": [
    "Q(12)"
   ]
  },
  {
   "cell_type": "code",
   "execution_count": 18,
   "id": "e50f04cd",
   "metadata": {},
   "outputs": [
    {
     "data": {
      "text/plain": [
       "[[1, 2, 3, 4],\n",
       " (2, 3, 4, 5, 6),\n",
       " (3, 4, 5, 6, 7),\n",
       " {4, 5, 23, 45},\n",
       " {'k1': 'sudh', 'k2': 'ineuron', 'k3': 'kumar', 3: 6, 7: 8},\n",
       " ['ineuron', 'data science ']]"
      ]
     },
     "execution_count": 18,
     "metadata": {},
     "output_type": "execute_result"
    }
   ],
   "source": [
    "l"
   ]
  },
  {
   "cell_type": "code",
   "execution_count": 30,
   "id": "5f3c7de0",
   "metadata": {},
   "outputs": [
    {
     "name": "stdout",
     "output_type": "stream",
     "text": [
      "k1\n",
      "sudh\n",
      "k2\n",
      "ineuron\n",
      "k3\n",
      "kumar\n",
      "ineuron\n",
      "data science \n"
     ]
    }
   ],
   "source": [
    "l1 = l[4]\n",
    "for i in l1:\n",
    "    if type(i) == str:\n",
    "        print(i)\n",
    "        print(l1[i])\n",
    "for i in l :\n",
    "    if type(i) == list:\n",
    "        for j in i :\n",
    "            if type(j) == str :\n",
    "                print(j)        \n",
    "            "
   ]
  },
  {
   "cell_type": "markdown",
   "id": "efadcd23",
   "metadata": {},
   "source": [
    "Q(13)"
   ]
  },
  {
   "cell_type": "code",
   "execution_count": 49,
   "id": "007049b8",
   "metadata": {},
   "outputs": [
    {
     "name": "stdout",
     "output_type": "stream",
     "text": [
      "1\n",
      "2\n",
      "3\n",
      "4\n",
      "2\n",
      "3\n",
      "4\n",
      "5\n",
      "6\n",
      "3\n",
      "4\n",
      "5\n",
      "6\n",
      "7\n",
      "ineuron\n",
      "data science \n"
     ]
    }
   ],
   "source": [
    "for i in l :\n",
    "    if type(i) == list or type(i) == tuple :\n",
    "        for j in i :\n",
    "            if type(j) == int or j == 'ineuron' or j == 'data science ':\n",
    "                print(j)\n",
    "l1 = l[4]\n",
    "for i in l1 :\n",
    "    if i == 'sudh' or i == 'ineuron' or i == 'kumar' :\n",
    "        print(i)\n",
    "    "
   ]
  },
  {
   "cell_type": "code",
   "execution_count": null,
   "id": "3cda68a7",
   "metadata": {},
   "outputs": [],
   "source": []
  },
  {
   "cell_type": "markdown",
   "id": "1bd7a192",
   "metadata": {},
   "source": [
    "Q(14)"
   ]
  },
  {
   "cell_type": "code",
   "execution_count": null,
   "id": "0c0bfa8d",
   "metadata": {},
   "outputs": [],
   "source": []
  },
  {
   "cell_type": "code",
   "execution_count": null,
   "id": "d6343963",
   "metadata": {},
   "outputs": [],
   "source": []
  },
  {
   "cell_type": "markdown",
   "id": "a42896ed",
   "metadata": {},
   "source": [
    "Q(15)"
   ]
  },
  {
   "cell_type": "code",
   "execution_count": null,
   "id": "6aca064d",
   "metadata": {},
   "outputs": [],
   "source": []
  }
 ],
 "metadata": {
  "kernelspec": {
   "display_name": "Python 3 (ipykernel)",
   "language": "python",
   "name": "python3"
  },
  "language_info": {
   "codemirror_mode": {
    "name": "ipython",
    "version": 3
   },
   "file_extension": ".py",
   "mimetype": "text/x-python",
   "name": "python",
   "nbconvert_exporter": "python",
   "pygments_lexer": "ipython3",
   "version": "3.9.7"
  }
 },
 "nbformat": 4,
 "nbformat_minor": 5
}
