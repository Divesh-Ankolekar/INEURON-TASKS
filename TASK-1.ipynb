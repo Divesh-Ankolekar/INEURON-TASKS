{
 "cells": [
  {
   "cell_type": "code",
   "execution_count": 1,
   "id": "3b82feff",
   "metadata": {},
   "outputs": [],
   "source": [
    "D=\"DIVESH99_INEURON.AI\""
   ]
  },
  {
   "cell_type": "code",
   "execution_count": 4,
   "id": "0fe076fc",
   "metadata": {},
   "outputs": [
    {
     "data": {
      "text/plain": [
       "'99'"
      ]
     },
     "execution_count": 4,
     "metadata": {},
     "output_type": "execute_result"
    }
   ],
   "source": [
    "D[6:8]"
   ]
  },
  {
   "cell_type": "code",
   "execution_count": 5,
   "id": "1b8419d8",
   "metadata": {},
   "outputs": [],
   "source": [
    "S=\"This is my First Python programming class and i am learning python string and its function\""
   ]
  },
  {
   "cell_type": "code",
   "execution_count": 8,
   "id": "9fbd09cc",
   "metadata": {},
   "outputs": [
    {
     "data": {
      "text/plain": [
       "'h   r tnrrmglsnimengyosi dtfco'"
      ]
     },
     "execution_count": 8,
     "metadata": {},
     "output_type": "execute_result"
    }
   ],
   "source": [
    "S[1:300:3]"
   ]
  },
  {
   "cell_type": "code",
   "execution_count": 11,
   "id": "c6bfcc1a",
   "metadata": {},
   "outputs": [
    {
     "data": {
      "text/plain": [
       "'noitcnuf sti dna gnirts nohtyp gninrael ma i dna ssalc gnimmargorp nohtyP tsriF ym si sihT'"
      ]
     },
     "execution_count": 11,
     "metadata": {},
     "output_type": "execute_result"
    }
   ],
   "source": [
    "S[::-1]"
   ]
  },
  {
   "cell_type": "raw",
   "id": "34261de9",
   "metadata": {},
   "source": []
  },
  {
   "cell_type": "code",
   "execution_count": 14,
   "id": "fcd78ad5",
   "metadata": {},
   "outputs": [],
   "source": [
    "R=S.upper()"
   ]
  },
  {
   "cell_type": "code",
   "execution_count": 16,
   "id": "bb1cc18a",
   "metadata": {},
   "outputs": [
    {
     "data": {
      "text/plain": [
       "'THIS IS MY FIRST PYTHON PROGRAMMING CLASS AND I AM LEARNING PYTHON STRING AND ITS FUNCTION'"
      ]
     },
     "execution_count": 16,
     "metadata": {},
     "output_type": "execute_result"
    }
   ],
   "source": [
    "S.upper()"
   ]
  },
  {
   "cell_type": "code",
   "execution_count": 19,
   "id": "14c08b7d",
   "metadata": {},
   "outputs": [
    {
     "data": {
      "text/plain": [
       "['THIS IS MY FIRST PYTHON PROGRAMMING CLASS AND I AM LEARNING PYTHON STRING AND ITS FUNCTION']"
      ]
     },
     "execution_count": 19,
     "metadata": {},
     "output_type": "execute_result"
    }
   ],
   "source": [
    "R.split('a')"
   ]
  },
  {
   "cell_type": "code",
   "execution_count": 23,
   "id": "c804c1cf",
   "metadata": {},
   "outputs": [
    {
     "data": {
      "text/plain": [
       "['THIS IS MY FIRST PYTHON PROGRAMMING CLASS AND I AM LEARNING PYTHON STRING AND ITS FUNCTION']"
      ]
     },
     "execution_count": 23,
     "metadata": {},
     "output_type": "execute_result"
    }
   ],
   "source": [
    "R.split('am')"
   ]
  },
  {
   "cell_type": "code",
   "execution_count": 25,
   "id": "d97dd2f7",
   "metadata": {},
   "outputs": [
    {
     "data": {
      "text/plain": [
       "['TH',\n",
       " 'S ',\n",
       " 'S MY F',\n",
       " 'RST PYTHON PROGRAMM',\n",
       " 'NG CLASS AND ',\n",
       " ' AM LEARN',\n",
       " 'NG PYTHON STR',\n",
       " 'NG AND ',\n",
       " 'TS FUNCT',\n",
       " 'ON']"
      ]
     },
     "execution_count": 25,
     "metadata": {},
     "output_type": "execute_result"
    }
   ],
   "source": [
    "R.split(\"I\")"
   ]
  },
  {
   "cell_type": "code",
   "execution_count": 26,
   "id": "017ca1ce",
   "metadata": {},
   "outputs": [
    {
     "data": {
      "text/plain": [
       "['THIS',\n",
       " 'IS',\n",
       " 'MY',\n",
       " 'FIRST',\n",
       " 'PYTHON',\n",
       " 'PROGRAMMING',\n",
       " 'CLASS',\n",
       " 'AND',\n",
       " 'I',\n",
       " 'AM',\n",
       " 'LEARNING',\n",
       " 'PYTHON',\n",
       " 'STRING',\n",
       " 'AND',\n",
       " 'ITS',\n",
       " 'FUNCTION']"
      ]
     },
     "execution_count": 26,
     "metadata": {},
     "output_type": "execute_result"
    }
   ],
   "source": [
    "R.split(' ')"
   ]
  },
  {
   "cell_type": "code",
   "execution_count": 27,
   "id": "fdccf488",
   "metadata": {},
   "outputs": [
    {
     "data": {
      "text/plain": [
       "'this is my first python programming class and i am learning python string and its function'"
      ]
     },
     "execution_count": 27,
     "metadata": {},
     "output_type": "execute_result"
    }
   ],
   "source": [
    "R.lower()"
   ]
  },
  {
   "cell_type": "code",
   "execution_count": 28,
   "id": "768a1522",
   "metadata": {},
   "outputs": [
    {
     "data": {
      "text/plain": [
       "'This is my first python programming class and i am learning python string and its function'"
      ]
     },
     "execution_count": 28,
     "metadata": {},
     "output_type": "execute_result"
    }
   ],
   "source": [
    "S.capitalize()"
   ]
  },
  {
   "cell_type": "raw",
   "id": "3da3eecf",
   "metadata": {},
   "source": [
    "isalnum() - it ia a function which proves that the integer data is true or false with respect to numbers.\n",
    "\n",
    "isalpha() - it is a function which proves that the integer data is true or false with respect to the alphabet."
   ]
  },
  {
   "cell_type": "code",
   "execution_count": 1,
   "id": "a123862e",
   "metadata": {},
   "outputs": [],
   "source": [
    "DD=('infosis\\twipro\\tTCS\\tcapgemini\\tgoogle\\tamazon\\tmicrosoft')"
   ]
  },
  {
   "cell_type": "code",
   "execution_count": 2,
   "id": "4564f3b7",
   "metadata": {},
   "outputs": [
    {
     "data": {
      "text/plain": [
       "'infosis wipro   TCS     capgemini       google  amazon  microsoft'"
      ]
     },
     "execution_count": 2,
     "metadata": {},
     "output_type": "execute_result"
    }
   ],
   "source": [
    "DD.expandtabs()"
   ]
  },
  {
   "cell_type": "code",
   "execution_count": 3,
   "id": "d5322a8b",
   "metadata": {},
   "outputs": [],
   "source": [
    "Ss=(\"            INEURON           \")"
   ]
  },
  {
   "cell_type": "code",
   "execution_count": 4,
   "id": "279e5285",
   "metadata": {},
   "outputs": [
    {
     "data": {
      "text/plain": [
       "'INEURON'"
      ]
     },
     "execution_count": 4,
     "metadata": {},
     "output_type": "execute_result"
    }
   ],
   "source": [
    "Ss.strip()"
   ]
  },
  {
   "cell_type": "code",
   "execution_count": 5,
   "id": "b755541b",
   "metadata": {},
   "outputs": [
    {
     "data": {
      "text/plain": [
       "'            INEURON'"
      ]
     },
     "execution_count": 5,
     "metadata": {},
     "output_type": "execute_result"
    }
   ],
   "source": [
    "Ss.rstrip()"
   ]
  },
  {
   "cell_type": "code",
   "execution_count": 6,
   "id": "efff2f37",
   "metadata": {},
   "outputs": [
    {
     "data": {
      "text/plain": [
       "'INEURON           '"
      ]
     },
     "execution_count": 6,
     "metadata": {},
     "output_type": "execute_result"
    }
   ],
   "source": [
    "Ss.lstrip()"
   ]
  },
  {
   "cell_type": "code",
   "execution_count": 7,
   "id": "beb9f11e",
   "metadata": {},
   "outputs": [],
   "source": [
    "Rr='DIVESH'"
   ]
  },
  {
   "cell_type": "code",
   "execution_count": 16,
   "id": "d2f64dac",
   "metadata": {},
   "outputs": [
    {
     "data": {
      "text/plain": [
       "'Divesh'"
      ]
     },
     "execution_count": 16,
     "metadata": {},
     "output_type": "execute_result"
    }
   ],
   "source": [
    "Rr.replace('IVESH','ivesh')"
   ]
  },
  {
   "cell_type": "code",
   "execution_count": 38,
   "id": "06516473",
   "metadata": {},
   "outputs": [],
   "source": [
    "H=\"Ineuron is a best person\"\n"
   ]
  },
  {
   "cell_type": "code",
   "execution_count": 39,
   "id": "64fab1d5",
   "metadata": {},
   "outputs": [
    {
     "data": {
      "text/plain": [
       "'Ineuron is a best platform for data scientist'"
      ]
     },
     "execution_count": 39,
     "metadata": {},
     "output_type": "execute_result"
    }
   ],
   "source": [
    "H.replace('person','platform for data scientist')\n"
   ]
  },
  {
   "cell_type": "code",
   "execution_count": 40,
   "id": "62641c75",
   "metadata": {},
   "outputs": [
    {
     "data": {
      "text/plain": [
       "'xxxxxxxxxxxxxxxxxxxxxxxxxxxxxxxxxxxxxxxxxxxxxxxxxxxxxxxxxxxxxxxxxxxxxxxxxxxxxxxxxxxxxxxxxxxxxxxxxxxxxxxxxxxxxxxxxxxxxxxxxxxxxxxxxxxxxxxxxxxxxxxxxxxxxxxxxxxxxxxxxxxxxxxxxxxxxxxxxxxxxxxxxxxxxxxxxxxxxxxxxxxxxxxxxxxxxxxxxxxxxxxxxxxxxxxxxxxxxxxxxxxxxxxxxxxxxxxxxxxxxxxxxxxxxxxxxxxxxxxxxxxxxxxxxxxxxxxxxxxxxxxxxxxxxxxxxxxxxxxxxxxxxxxxxxxxxxxxxxxxxxxxxxxxxxxxxxxxxxxxxxxxxxxxxxxxxxxxxxxxxxxxxxxxxxxxxxxxxxxxxxxxxxxxxxxxxxxxxxxxxxxxxxxxxxxxxxxxxxxxxxxxxxxxxxxxxxxxxxxxxxxxxxxxxxxxxxxxxxxxxxxxxxxxxxxxxxxxxxxxxxxxxxxxxxxxxxxxxxxxxxxxxxxxxxxxxxxxxxxxxxxxxxxxxxxxxxxxxxxxxxxxxxxxxxxxxxxxxxxxxxxxxxxxIneuron is a best personxxxxxxxxxxxxxxxxxxxxxxxxxxxxxxxxxxxxxxxxxxxxxxxxxxxxxxxxxxxxxxxxxxxxxxxxxxxxxxxxxxxxxxxxxxxxxxxxxxxxxxxxxxxxxxxxxxxxxxxxxxxxxxxxxxxxxxxxxxxxxxxxxxxxxxxxxxxxxxxxxxxxxxxxxxxxxxxxxxxxxxxxxxxxxxxxxxxxxxxxxxxxxxxxxxxxxxxxxxxxxxxxxxxxxxxxxxxxxxxxxxxxxxxxxxxxxxxxxxxxxxxxxxxxxxxxxxxxxxxxxxxxxxxxxxxxxxxxxxxxxxxxxxxxxxxxxxxxxxxxxxxxxxxxxxxxxxxxxxxxxxxxxxxxxxxxxxxxxxxxxxxxxxxxxxxxxxxxxxxxxxxxxxxxxxxxxxxxxxxxxxxxxxxxxxxxxxxxxxxxxxxxxxxxxxxxxxxxxxxxxxxxxxxxxxxxxxxxxxxxxxxxxxxxxxxxxxxxxxxxxxxxxxxxxxxxxxxxxxxxxxxxxxxxxxxxxxxxxxxxxxxxxxxxxxxxxxxxxxxxxxxxxxxxxxxxxxxxxxxxxxxxxxxxxxxxxxxxxxxxxxxxxxxx'"
      ]
     },
     "execution_count": 40,
     "metadata": {},
     "output_type": "execute_result"
    }
   ],
   "source": [
    "H.center(1200,'x')"
   ]
  },
  {
   "cell_type": "raw",
   "id": "a80d1f51",
   "metadata": {},
   "source": [
    "Centre Function \n",
    "It is a function which ceters the given integer data between the size limit given with other character"
   ]
  },
  {
   "cell_type": "code",
   "execution_count": null,
   "id": "19e7b124",
   "metadata": {},
   "outputs": [],
   "source": [
    "compiler is a process in which the entire sourse code is executed in a single run\n",
    "interpreter is a process in which the sourse of code is executed line by line with a multiple run\n",
    "compiler proces is a quick process, where as interpreted is a slower pocess.\n",
    "\n",
    "Define python is an interpreted of compiled language.\n",
    "No, python is not an interpreted of compiled language because it executes the entire sourse code line by line.\n",
    "\n",
    "Use case of an Python\n",
    "Pyhton can we use in devloping the websites as needed\n",
    "python can use in modifing or upgrading any application. for ex: Instagram, facebook, google, flipkart etc\n",
    "python is basically a process of extracting  the data, processing the data and manipulating. with the help of diffferent  libraries such as pandas and numpy etc\n",
    "\n"
   ]
  }
 ],
 "metadata": {
  "kernelspec": {
   "display_name": "Python 3 (ipykernel)",
   "language": "python",
   "name": "python3"
  },
  "language_info": {
   "codemirror_mode": {
    "name": "ipython",
    "version": 3
   },
   "file_extension": ".py",
   "mimetype": "text/x-python",
   "name": "python",
   "nbconvert_exporter": "python",
   "pygments_lexer": "ipython3",
   "version": "3.9.7"
  }
 },
 "nbformat": 4,
 "nbformat_minor": 5
}
