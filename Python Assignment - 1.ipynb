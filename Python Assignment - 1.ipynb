{
 "cells": [
  {
   "cell_type": "markdown",
   "id": "08b990a2",
   "metadata": {},
   "source": [
    "# Assignment Solution"
   ]
  },
  {
   "cell_type": "markdown",
   "id": "24f844ec",
   "metadata": {},
   "source": [
    "SUBMITTED BY: DIVESH ANKOLEKAR"
   ]
  },
  {
   "cell_type": "markdown",
   "id": "189f23fe",
   "metadata": {},
   "source": [
    "# 1. In the below elements which of them are values or an expression? eg:- values can be integer or string and expressions will be mathematical operators."
   ]
  },
  {
   "cell_type": "raw",
   "id": "e3480f77",
   "metadata": {},
   "source": [
    "*,'hello', -87.8,-,/,+,6"
   ]
  },
  {
   "cell_type": "markdown",
   "id": "09c2142f",
   "metadata": {},
   "source": [
    "Ans: There are a total of 4 Operators and 3 Expressions, They are:"
   ]
  },
  {
   "cell_type": "raw",
   "id": "117e2ba0",
   "metadata": {},
   "source": [
    "Operators: *,-,/,+"
   ]
  },
  {
   "cell_type": "raw",
   "id": "0f04c96a",
   "metadata": {},
   "source": [
    "Expressions: 'hello', 87.8, 6"
   ]
  },
  {
   "cell_type": "code",
   "execution_count": null,
   "id": "a449bbc3",
   "metadata": {},
   "outputs": [],
   "source": []
  }
 ],
 "metadata": {
  "kernelspec": {
   "display_name": "Python 3 (ipykernel)",
   "language": "python",
   "name": "python3"
  },
  "language_info": {
   "codemirror_mode": {
    "name": "ipython",
    "version": 3
   },
   "file_extension": ".py",
   "mimetype": "text/x-python",
   "name": "python",
   "nbconvert_exporter": "python",
   "pygments_lexer": "ipython3",
   "version": "3.9.7"
  }
 },
 "nbformat": 4,
 "nbformat_minor": 5
}
